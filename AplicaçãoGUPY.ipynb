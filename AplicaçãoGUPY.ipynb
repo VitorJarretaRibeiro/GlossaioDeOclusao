{
  "nbformat": 4,
  "nbformat_minor": 0,
  "metadata": {
    "colab": {
      "provenance": [],
      "authorship_tag": "ABX9TyMwOjVbt0EtEA5+YFlAQv8F",
      "include_colab_link": true
    },
    "kernelspec": {
      "name": "python3",
      "display_name": "Python 3"
    },
    "language_info": {
      "name": "python"
    }
  },
  "cells": [
    {
      "cell_type": "markdown",
      "metadata": {
        "id": "view-in-github",
        "colab_type": "text"
      },
      "source": [
        "<a href=\"https://colab.research.google.com/github/VitorJarretaRibeiro/GlossaioDeOclusao/blob/main/Aplica%C3%A7%C3%A3oGUPY.ipynb\" target=\"_parent\"><img src=\"https://colab.research.google.com/assets/colab-badge.svg\" alt=\"Open In Colab\"/></a>"
      ]
    },
    {
      "cell_type": "markdown",
      "source": [
        "#1. A soma será 91\n",
        "\n",
        "###Segue a prova"
      ],
      "metadata": {
        "id": "Yh3Ic8OTz8eV"
      }
    },
    {
      "cell_type": "code",
      "execution_count": 3,
      "metadata": {
        "colab": {
          "base_uri": "https://localhost:8080/"
        },
        "id": "7eNVx_Icz6WJ",
        "outputId": "c12d3046-505b-4f92-c619-167583c0d1a9"
      },
      "outputs": [
        {
          "output_type": "stream",
          "name": "stdout",
          "text": [
            "k : 13 \n",
            "soma: 91\n"
          ]
        }
      ],
      "source": [
        "indice = 13\n",
        "soma = 0\n",
        "k = 0\n",
        "\n",
        "while k < indice:\n",
        "  k = k + 1\n",
        "  soma = k + soma\n",
        "\n",
        "print('k :', k, '\\nsoma:', soma)"
      ]
    },
    {
      "cell_type": "markdown",
      "source": [
        "#2. Finobacci"
      ],
      "metadata": {
        "id": "-WDsD8iZ00pp"
      }
    },
    {
      "cell_type": "code",
      "source": [
        "def fibonacci(x):\n",
        "    seq = [0, 1]\n",
        "\n",
        "    while seq[-1] < x:\n",
        "        seq.append(seq[-1] + seq[-2])\n",
        "\n",
        "    if x in seq:\n",
        "        return 'Sequência Fibonacci: ' + str(seq) + '\\nNúmero ' + str(x) + ' está na sequência'\n",
        "    else:\n",
        "        return 'Sequência Fibonacci: ' + str(seq) + '\\nNúmero ' + str(x) + ' não está na sequência'\n",
        "\n",
        "def main():\n",
        "    i = int(input('Informe um número: '))\n",
        "    func = fibonacci(i)\n",
        "    print(func)\n",
        "\n",
        "main()\n"
      ],
      "metadata": {
        "colab": {
          "base_uri": "https://localhost:8080/"
        },
        "id": "67R-rUqZ1wRc",
        "outputId": "e9c12e4d-e597-4222-a3ee-1806eb1c2e7e"
      },
      "execution_count": 24,
      "outputs": [
        {
          "output_type": "stream",
          "name": "stdout",
          "text": [
            "Informe um número: 10\n",
            "Sequência Fibonacci: [0, 1, 1, 2, 3, 5, 8, 13]\n",
            "Número 10 não está na sequência\n"
          ]
        }
      ]
    },
    {
      "cell_type": "markdown",
      "source": [
        "#3. Lógica\n"
      ],
      "metadata": {
        "id": "3ceaKHa9cxUP"
      }
    },
    {
      "cell_type": "code",
      "source": [
        "#1,3,5,7,...\n",
        "#Tratase-se dos números ímpares, logo próximo número é o 9 - 1,3,5,7,9,11,...\n",
        "\n",
        "\n",
        "#2,4,8,16,32,64,...\n",
        "#Trata-se da multiplicação do numeró anterior por 2, ou a potenciação de 2, próximo número será 128\n",
        "#1,2,4,8,16,32,64,128,256,...\n",
        "\n",
        "# 0, 1, 4, 9, 16, 25, 36,...\n",
        "#Faz-se a soma com o próximo número ímpar, 0+1 = 1, 1+3 = 4, 4+5 = 9, 9+7 = 16,...\n",
        "#Desta forma, o próximo número é 47\n",
        "# 0, 1, 4, 9, 16, 25, 36, 47, ...\n",
        "\n",
        "#4, 16, 36, 64, ...\n",
        "#É o quadrado do próximo par, 2² = 4, 4² = 16, 6² = 36, 8² = 64, 10² = 100\n",
        "#4, 16, 36, 64, 100\n",
        "\n",
        "# 1, 1, 2, 3, 5, 8, ...\n",
        "#Soma-se os dois anteriores para obter o próximo, próximo número é 13\n",
        "# 1, 1, 2, 3, 5, 8, 13, ...\n",
        "\n",
        "#2,10, 12, 16, 17, 18, 19, ____\n",
        "#Todos os números com a letra D\n",
        "#2,10, 12, 16, 17, 18, 19, 200"
      ],
      "metadata": {
        "id": "Y1YX1FTadGeR"
      },
      "execution_count": null,
      "outputs": []
    },
    {
      "cell_type": "markdown",
      "source": [
        "#4. 3 lampadâs e 3 interruptores\n",
        "\n",
        "Sabendo que posso ir lá duas vezes, primeiramente cheveio todos os interruptores para o mesmo lado, logo em seguida cheveio somente uma para lado oposto e espero alguns minutos. Passado o tempo chaveio todas para o mesmo lado e outra para o lado oposto e vou a sala ver. Aque estiver mais quentee e apagada é a que representava o primeiro chaveamento. Volto a sala dos interruptores e espero o mesmo tempo anterior, passado o tempo chaveio todas para o mesmo lado e verifico a temperatura. Desta forma, podendo saber qual representa qual"
      ],
      "metadata": {
        "id": "6s2uHWmyl8Ds"
      }
    },
    {
      "cell_type": "markdown",
      "source": [
        "#5. Invertendo String"
      ],
      "metadata": {
        "id": "JGfCCW9NqJtL"
      }
    },
    {
      "cell_type": "code",
      "source": [
        "contratar = \"Quero ser programador!\"\n",
        "contratar_reverse = ''\n",
        "\n",
        "for x in range(len(contratar) - 1, -1, -1):\n",
        "    contratar_reverse += contratar[x]\n",
        "\n",
        "print(contratar_reverse)\n",
        "\n",
        "#\n",
        "\n",
        "teste_voce = input('Informe uma string: ')\n",
        "\n",
        "print('Sua string invertida: ',teste_voce[::-1])"
      ],
      "metadata": {
        "colab": {
          "base_uri": "https://localhost:8080/"
        },
        "id": "-bgC8xTPl7wZ",
        "outputId": "3a3cc128-c27c-4d47-ff90-02a280ad2fed"
      },
      "execution_count": 16,
      "outputs": [
        {
          "output_type": "stream",
          "name": "stdout",
          "text": [
            "!rodamargorp res oreuQ\n",
            "Informe uma string: teste\n",
            "Sua string invertida:  etset\n"
          ]
        }
      ]
    }
  ]
}